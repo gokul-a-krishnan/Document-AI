{
 "cells": [
  {
   "cell_type": "code",
   "execution_count": 1,
   "id": "initial_id",
   "metadata": {
    "ExecuteTime": {
     "end_time": "2023-10-24T11:58:38.664755400Z",
     "start_time": "2023-10-24T11:58:38.218757900Z"
    },
    "collapsed": true,
    "jupyter": {
     "outputs_hidden": true
    }
   },
   "outputs": [],
   "source": [
    "import os\n",
    "\n",
    "from langchain.document_loaders import PyPDFLoader\n",
    "from langchain.text_splitter import RecursiveCharacterTextSplitter\n",
    "from langchain.embeddings import SentenceTransformerEmbeddings\n",
    "from langchain.vectorstores import Chroma\n",
    "from langchain.chat_models import ChatOpenAI\n",
    "from langchain.chains.question_answering import load_qa_chain"
   ]
  },
  {
   "cell_type": "code",
   "execution_count": 2,
   "id": "c8cef1157a45a49c",
   "metadata": {
    "ExecuteTime": {
     "end_time": "2023-10-24T11:56:31.703687100Z",
     "start_time": "2023-10-24T11:56:31.697592400Z"
    },
    "collapsed": false,
    "jupyter": {
     "outputs_hidden": false
    }
   },
   "outputs": [],
   "source": [
    "base_dir = \"pdfs\"\n",
    "db_dir = \"./chroma_db\"\n",
    "st_embedding_model = \"all-MiniLM-L6-v2\"\n",
    "openai_api_key = \"YOUR KEY HERE\"\n",
    "open_ai_llm_model_name = \"gpt-3.5-turbo\""
   ]
  },
  {
   "cell_type": "code",
   "execution_count": 3,
   "id": "1d2eb14e9425348f",
   "metadata": {
    "ExecuteTime": {
     "end_time": "2023-10-24T11:56:35.502817Z",
     "start_time": "2023-10-24T11:56:35.496803700Z"
    },
    "collapsed": false,
    "jupyter": {
     "outputs_hidden": false
    }
   },
   "outputs": [],
   "source": [
    "os.environ[\"OPENAI_API_KEY\"] = openai_api_key"
   ]
  },
  {
   "cell_type": "code",
   "execution_count": 4,
   "id": "3c1b5cfa799c79ee",
   "metadata": {
    "ExecuteTime": {
     "end_time": "2023-10-24T11:56:36.489606300Z",
     "start_time": "2023-10-24T11:56:36.478603700Z"
    },
    "collapsed": false,
    "jupyter": {
     "outputs_hidden": false
    }
   },
   "outputs": [],
   "source": [
    "files = [os.path.join(base_dir, file) for file in os.listdir(base_dir)]"
   ]
  },
  {
   "cell_type": "code",
   "execution_count": 5,
   "id": "e16622174739b617",
   "metadata": {
    "ExecuteTime": {
     "end_time": "2023-10-24T11:56:37.226715200Z",
     "start_time": "2023-10-24T11:56:37.210202200Z"
    },
    "collapsed": false,
    "jupyter": {
     "outputs_hidden": false
    }
   },
   "outputs": [],
   "source": [
    "def split_docs(docs, chunk_size=1000, chunk_overlap=20):\n",
    "    text_splitter = RecursiveCharacterTextSplitter(chunk_size=chunk_size, chunk_overlap=chunk_overlap)\n",
    "    docs = text_splitter.split_documents(docs)\n",
    "    return docs"
   ]
  },
  {
   "cell_type": "code",
   "execution_count": 6,
   "id": "813250e25e1f2175",
   "metadata": {
    "ExecuteTime": {
     "end_time": "2023-10-24T11:56:37.944062600Z",
     "start_time": "2023-10-24T11:56:37.925768500Z"
    },
    "collapsed": false,
    "jupyter": {
     "outputs_hidden": false
    }
   },
   "outputs": [],
   "source": [
    "documents = []"
   ]
  },
  {
   "cell_type": "code",
   "execution_count": null,
   "id": "b9b9caf341162da5",
   "metadata": {
    "collapsed": false,
    "jupyter": {
     "outputs_hidden": false
    }
   },
   "outputs": [],
   "source": [
    "for file in files:\n",
    "    loader = PyPDFLoader(file)\n",
    "    pages = loader.load_and_split()\n",
    "    pages = split_docs(pages)\n",
    "    documents.extend(pages)"
   ]
  },
  {
   "cell_type": "code",
   "execution_count": 12,
   "id": "650a18233013a147",
   "metadata": {
    "ExecuteTime": {
     "end_time": "2023-10-24T11:57:13.104986200Z",
     "start_time": "2023-10-24T11:57:10.709814200Z"
    },
    "collapsed": false,
    "jupyter": {
     "outputs_hidden": false
    }
   },
   "outputs": [],
   "source": [
    "embeddings = SentenceTransformerEmbeddings(model_name=st_embedding_model)"
   ]
  },
  {
   "cell_type": "code",
   "execution_count": 12,
   "id": "5921d93876c9c3d6",
   "metadata": {
    "ExecuteTime": {
     "end_time": "2023-10-24T11:58:00.386838300Z",
     "start_time": "2023-10-24T11:57:13.105987300Z"
    },
    "collapsed": false,
    "jupyter": {
     "outputs_hidden": false
    }
   },
   "outputs": [
    {
     "data": {
      "text/plain": [
       "<langchain.vectorstores.chroma.Chroma at 0x28996cbd0>"
      ]
     },
     "execution_count": 12,
     "metadata": {},
     "output_type": "execute_result"
    }
   ],
   "source": [
    "Chroma.from_documents(documents, embeddings, persist_directory=db_dir)"
   ]
  },
  {
   "cell_type": "code",
   "execution_count": 13,
   "id": "e343a37965e5a43d",
   "metadata": {
    "ExecuteTime": {
     "end_time": "2023-10-24T11:58:00.402827700Z",
     "start_time": "2023-10-24T11:58:00.389828600Z"
    },
    "collapsed": false,
    "jupyter": {
     "outputs_hidden": false
    }
   },
   "outputs": [],
   "source": [
    "db = Chroma(persist_directory=db_dir, embedding_function=embeddings)"
   ]
  },
  {
   "cell_type": "code",
   "execution_count": 14,
   "id": "fc3a21bca6ef2c77",
   "metadata": {
    "ExecuteTime": {
     "end_time": "2023-10-24T12:14:10.754121600Z",
     "start_time": "2023-10-24T12:14:10.748128600Z"
    },
    "collapsed": false,
    "jupyter": {
     "outputs_hidden": false
    }
   },
   "outputs": [],
   "source": [
    "query = \"what happen leadsulphide treated with oxygen\""
   ]
  },
  {
   "cell_type": "code",
   "execution_count": 15,
   "id": "7248a83dcf1d532d",
   "metadata": {
    "ExecuteTime": {
     "end_time": "2023-10-24T11:59:28.150688100Z",
     "start_time": "2023-10-24T11:59:28.121956800Z"
    },
    "collapsed": false,
    "jupyter": {
     "outputs_hidden": false
    }
   },
   "outputs": [],
   "source": [
    "llm = ChatOpenAI(model_name=open_ai_llm_model_name)"
   ]
  },
  {
   "cell_type": "code",
   "execution_count": 16,
   "id": "c6e9aeb1bbb3f17c",
   "metadata": {
    "ExecuteTime": {
     "end_time": "2023-10-24T12:14:45.151481300Z",
     "start_time": "2023-10-24T12:14:14.394129600Z"
    },
    "collapsed": false,
    "jupyter": {
     "outputs_hidden": false
    }
   },
   "outputs": [
    {
     "name": "stdout",
     "output_type": "stream",
     "text": [
      "\n",
      "\n",
      "\u001b[1m> Entering new StuffDocumentsChain chain...\u001b[0m\n",
      "\n",
      "\n",
      "\u001b[1m> Entering new LLMChain chain...\u001b[0m\n",
      "Prompt after formatting:\n",
      "\u001b[32;1m\u001b[1;3mSystem: Use the following pieces of context to answer the user's question. \n",
      "If you don't know the answer, just say that you don't know, don't try to make up an answer.\n",
      "----------------\n",
      "→\n",
      "o ourless\n",
      "However, the bleached product (colourless) is allowed to stand in air, it is reoxidised \n",
      "by atmospheric oxygen to its original colour. Hence bleaching action of sulphur dioxide is temporary. \n",
      "Uses: \n",
      "1. Sulphur dioxide is used in bleaching hair, silk, wool etc...\n",
      "2. It can be used for disinfecting crops and plants in agriculture.\n",
      "Structure of sulphur dioxide:\n",
      "In sulphur dioxide, sulphur \n",
      "atom undergoes sp2 hybridisation. \n",
      "A double bond arises between S \n",
      "and O due to pπ- dπ overlapping.\n",
      "3.2.3 Sulphuric acid: (H2SO4) \n",
      "Preparation:\n",
      "Sulphuric acid can be manufactured by lead chamber process, cascade process or contact \n",
      "process. Here we discuss the contact process.\n",
      "Manufacture of sulphuric acid by contact process:\n",
      "The contact process involves the following steps. \n",
      "i.  Initially sulphur dioxide is produced by burning sulphur or iron pyrites in oxygen/air.Figure 3.9  Str ucture of sulphur dioxide.\n",
      "\n",
      "→\n",
      "o ourless\n",
      "However, the bleached product (colourless) is allowed to stand in air, it is reoxidised \n",
      "by atmospheric oxygen to its original colour. Hence bleaching action of sulphur dioxide is temporary. \n",
      "Uses: \n",
      "1. Sulphur dioxide is used in bleaching hair, silk, wool etc...\n",
      "2. It can be used for disinfecting crops and plants in agriculture.\n",
      "Structure of sulphur dioxide:\n",
      "In sulphur dioxide, sulphur \n",
      "atom undergoes sp2 hybridisation. \n",
      "A double bond arises between S \n",
      "and O due to pπ- dπ overlapping.\n",
      "3.2.3 Sulphuric acid: (H2SO4) \n",
      "Preparation:\n",
      "Sulphuric acid can be manufactured by lead chamber process, cascade process or contact \n",
      "process. Here we discuss the contact process.\n",
      "Manufacture of sulphuric acid by contact process:\n",
      "The contact process involves the following steps. \n",
      "i.  Initially sulphur dioxide is produced by burning sulphur or iron pyrites in oxygen/air.Figure 3.9  Str ucture of sulphur dioxide.\n",
      "\n",
      "→\n",
      "o ourless\n",
      "However, the bleached product (colourless) is allowed to stand in air, it is reoxidised \n",
      "by atmospheric oxygen to its original colour. Hence bleaching action of sulphur dioxide is temporary. \n",
      "Uses: \n",
      "1. Sulphur dioxide is used in bleaching hair, silk, wool etc...\n",
      "2. It can be used for disinfecting crops and plants in agriculture.\n",
      "Structure of sulphur dioxide:\n",
      "In sulphur dioxide, sulphur \n",
      "atom undergoes sp2 hybridisation. \n",
      "A double bond arises between S \n",
      "and O due to pπ- dπ overlapping.\n",
      "3.2.3 Sulphuric acid: (H2SO4) \n",
      "Preparation:\n",
      "Sulphuric acid can be manufactured by lead chamber process, cascade process or contact \n",
      "process. Here we discuss the contact process.\n",
      "Manufacture of sulphuric acid by contact process:\n",
      "The contact process involves the following steps. \n",
      "i.  Initially sulphur dioxide is produced by burning sulphur or iron pyrites in oxygen/air.Figure 3.9  Str ucture of sulphur dioxide.\n",
      "\n",
      "95 Phosphine is used for producing smoke screen as it gives large smoke. \n",
      " When a slow stream of chlorine is passed over white phosphorous, phosphorous \n",
      "trichloride  is formed.\n",
      " Phosphorus trichloride: and Phosphorous pentachloride are used as a chlorinating \n",
      "agent\n",
      " Oxygen is paramagnetic. It exists in two allotropic forms namely dioxygen (O2) \n",
      "and ozone or trioxygen (O3).\n",
      " Ozone is commonly used for oxidation of organic compounds.\n",
      " Sulphur exists in crystalline as well as amorphous allotrophic forms. The crystalline form includes rhombic sulphur (α sulphur) and monoclinic sulphur (β sulphur). Amorphous allotropic form includes plastic sulphur (γ sulphur), milk of sulphur and colloidal sulphur.\n",
      " Sulphuric acid can be manufactured by lead chamber process, cascade process or contact process.\n",
      " When dissolved in water, it forms mono (H2SO4.H2O) and dihydrates (H2SO4.2H2O) \n",
      "and the reaction is exothermic.\n",
      " Halogens are present in combined form as they are highly reactive.\n",
      "Human: what happen leadsulphide treated with oxygen\u001b[0m\n",
      "\n",
      "\u001b[1m> Finished chain.\u001b[0m\n",
      "\n",
      "\u001b[1m> Finished chain.\u001b[0m\n"
     ]
    }
   ],
   "source": [
    "chain = load_qa_chain(llm, chain_type=\"stuff\", verbose=True)\n",
    "\n",
    "matching_docs = db.similarity_search(query)\n",
    "answer =  chain.run(input_documents=matching_docs, question=query)"
   ]
  },
  {
   "cell_type": "code",
   "execution_count": 17,
   "id": "daa966ee1d206948",
   "metadata": {
    "ExecuteTime": {
     "end_time": "2023-10-24T12:14:45.197425300Z",
     "start_time": "2023-10-24T12:14:45.153482800Z"
    },
    "collapsed": false,
    "jupyter": {
     "outputs_hidden": false
    }
   },
   "outputs": [
    {
     "data": {
      "text/plain": [
       "'When lead sulfide (PbS) is treated with oxygen (O2), it undergoes oxidation and forms lead oxide (PbO) and sulfur dioxide (SO2) as products. The balanced chemical equation for this reaction is:\\n\\n2PbS + 3O2 -> 2PbO + 2SO2\\n\\nSo, lead sulfide reacts with oxygen to produce lead oxide and sulfur dioxide.'"
      ]
     },
     "execution_count": 17,
     "metadata": {},
     "output_type": "execute_result"
    }
   ],
   "source": [
    "answer"
   ]
  },
  {
   "cell_type": "code",
   "execution_count": 18,
   "id": "c9a9f0e755352e16",
   "metadata": {
    "collapsed": false,
    "jupyter": {
     "outputs_hidden": false
    }
   },
   "outputs": [
    {
     "name": "stdout",
     "output_type": "stream",
     "text": [
      "{'page': 86, 'source': 'pdfs/12th_Chemistry_Vol-1_EM - www.tntextbooks.in.pdf'}\n",
      "{'page': 86, 'source': 'pdfs\\\\12th_Chemistry_Vol-1_EM - www.tntextbooks.in.pdf'}\n",
      "{'page': 86, 'source': 'pdfs\\\\12th_Chemistry_Vol-1_EM - www.tntextbooks.in.pdf'}\n",
      "{'page': 104, 'source': 'pdfs/12th_Chemistry_Vol-1_EM - www.tntextbooks.in.pdf'}\n"
     ]
    }
   ],
   "source": [
    "for doc in matching_docs:\n",
    "    print(doc.metadata)"
   ]
  },
  {
   "cell_type": "code",
   "execution_count": null,
   "id": "bef83af34e9a724f",
   "metadata": {
    "collapsed": false,
    "jupyter": {
     "outputs_hidden": false
    }
   },
   "outputs": [],
   "source": []
  }
 ],
 "metadata": {
  "kernelspec": {
   "display_name": "Python 3 (ipykernel)",
   "language": "python",
   "name": "python3"
  },
  "language_info": {
   "codemirror_mode": {
    "name": "ipython",
    "version": 3
   },
   "file_extension": ".py",
   "mimetype": "text/x-python",
   "name": "python",
   "nbconvert_exporter": "python",
   "pygments_lexer": "ipython3",
   "version": "3.10.12"
  }
 },
 "nbformat": 4,
 "nbformat_minor": 5
}
