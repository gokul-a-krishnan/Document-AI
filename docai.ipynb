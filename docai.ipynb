{
 "cells": [
  {
   "cell_type": "code",
   "execution_count": 1,
   "id": "initial_id",
   "metadata": {
    "collapsed": true,
    "ExecuteTime": {
     "end_time": "2023-10-24T11:58:38.664755400Z",
     "start_time": "2023-10-24T11:58:38.218757900Z"
    }
   },
   "outputs": [],
   "source": [
    "import os\n",
    "\n",
    "from langchain.document_loaders import PyPDFLoader\n",
    "from langchain.text_splitter import RecursiveCharacterTextSplitter\n",
    "from langchain.embeddings import SentenceTransformerEmbeddings\n",
    "from langchain.vectorstores import Chroma\n",
    "from langchain.chat_models import ChatOpenAI\n",
    "from langchain.chains.question_answering import load_qa_chain"
   ]
  },
  {
   "cell_type": "code",
   "execution_count": 2,
   "outputs": [],
   "source": [
    "base_dir = \"pdfs\"\n",
    "db_dir = \"./chroma_db\"\n",
    "st_embedding_model = \"all-MiniLM-L6-v2\"\n",
    "openai_api_key = \"YOUR KEY HERE\"\n",
    "open_ai_llm_model_name = \"gpt-3.5-turbo\""
   ],
   "metadata": {
    "collapsed": false,
    "ExecuteTime": {
     "end_time": "2023-10-24T11:56:31.703687100Z",
     "start_time": "2023-10-24T11:56:31.697592400Z"
    }
   },
   "id": "c8cef1157a45a49c"
  },
  {
   "cell_type": "code",
   "execution_count": 3,
   "outputs": [],
   "source": [
    "os.environ[\"OPENAI_API_KEY\"] = openai_api_key"
   ],
   "metadata": {
    "collapsed": false,
    "ExecuteTime": {
     "end_time": "2023-10-24T11:56:35.502817Z",
     "start_time": "2023-10-24T11:56:35.496803700Z"
    }
   },
   "id": "1d2eb14e9425348f"
  },
  {
   "cell_type": "code",
   "execution_count": 4,
   "outputs": [],
   "source": [
    "files = [os.path.join(base_dir, file) for file in os.listdir(base_dir)]"
   ],
   "metadata": {
    "collapsed": false,
    "ExecuteTime": {
     "end_time": "2023-10-24T11:56:36.489606300Z",
     "start_time": "2023-10-24T11:56:36.478603700Z"
    }
   },
   "id": "3c1b5cfa799c79ee"
  },
  {
   "cell_type": "code",
   "execution_count": 5,
   "outputs": [],
   "source": [
    "def split_docs(docs, chunk_size=1000, chunk_overlap=20):\n",
    "    text_splitter = RecursiveCharacterTextSplitter(chunk_size=chunk_size, chunk_overlap=chunk_overlap)\n",
    "    docs = text_splitter.split_documents(docs)\n",
    "    return docs"
   ],
   "metadata": {
    "collapsed": false,
    "ExecuteTime": {
     "end_time": "2023-10-24T11:56:37.226715200Z",
     "start_time": "2023-10-24T11:56:37.210202200Z"
    }
   },
   "id": "e16622174739b617"
  },
  {
   "cell_type": "code",
   "execution_count": 6,
   "outputs": [],
   "source": [
    "documents = []"
   ],
   "metadata": {
    "collapsed": false,
    "ExecuteTime": {
     "end_time": "2023-10-24T11:56:37.944062600Z",
     "start_time": "2023-10-24T11:56:37.925768500Z"
    }
   },
   "id": "813250e25e1f2175"
  },
  {
   "cell_type": "code",
   "execution_count": 7,
   "outputs": [
    {
     "name": "stderr",
     "output_type": "stream",
     "text": [
      "invalid pdf header: b'\\x00\\x05\\x16\\x07\\x00'\n",
      "EOF marker not found\n"
     ]
    },
    {
     "ename": "PdfStreamError",
     "evalue": "Stream has ended unexpectedly",
     "output_type": "error",
     "traceback": [
      "\u001B[0;31m---------------------------------------------------------------------------\u001B[0m",
      "\u001B[0;31mPdfStreamError\u001B[0m                            Traceback (most recent call last)",
      "Cell \u001B[0;32mIn[7], line 3\u001B[0m\n\u001B[1;32m      1\u001B[0m \u001B[38;5;28;01mfor\u001B[39;00m file \u001B[38;5;129;01min\u001B[39;00m files:\n\u001B[1;32m      2\u001B[0m     loader \u001B[38;5;241m=\u001B[39m PyPDFLoader(file)\n\u001B[0;32m----> 3\u001B[0m     pages \u001B[38;5;241m=\u001B[39m \u001B[43mloader\u001B[49m\u001B[38;5;241;43m.\u001B[39;49m\u001B[43mload_and_split\u001B[49m\u001B[43m(\u001B[49m\u001B[43m)\u001B[49m\n\u001B[1;32m      4\u001B[0m     pages \u001B[38;5;241m=\u001B[39m split_docs(pages)\n\u001B[1;32m      5\u001B[0m     documents\u001B[38;5;241m.\u001B[39mextend(pages)\n",
      "File \u001B[0;32m/Library/Frameworks/Python.framework/Versions/3.11/lib/python3.11/site-packages/langchain/document_loaders/base.py:43\u001B[0m, in \u001B[0;36mBaseLoader.load_and_split\u001B[0;34m(self, text_splitter)\u001B[0m\n\u001B[1;32m     41\u001B[0m \u001B[38;5;28;01melse\u001B[39;00m:\n\u001B[1;32m     42\u001B[0m     _text_splitter \u001B[38;5;241m=\u001B[39m text_splitter\n\u001B[0;32m---> 43\u001B[0m docs \u001B[38;5;241m=\u001B[39m \u001B[38;5;28;43mself\u001B[39;49m\u001B[38;5;241;43m.\u001B[39;49m\u001B[43mload\u001B[49m\u001B[43m(\u001B[49m\u001B[43m)\u001B[49m\n\u001B[1;32m     44\u001B[0m \u001B[38;5;28;01mreturn\u001B[39;00m _text_splitter\u001B[38;5;241m.\u001B[39msplit_documents(docs)\n",
      "File \u001B[0;32m/Library/Frameworks/Python.framework/Versions/3.11/lib/python3.11/site-packages/langchain/document_loaders/pdf.py:162\u001B[0m, in \u001B[0;36mPyPDFLoader.load\u001B[0;34m(self)\u001B[0m\n\u001B[1;32m    160\u001B[0m \u001B[38;5;28;01mdef\u001B[39;00m \u001B[38;5;21mload\u001B[39m(\u001B[38;5;28mself\u001B[39m) \u001B[38;5;241m-\u001B[39m\u001B[38;5;241m>\u001B[39m List[Document]:\n\u001B[1;32m    161\u001B[0m \u001B[38;5;250m    \u001B[39m\u001B[38;5;124;03m\"\"\"Load given path as pages.\"\"\"\u001B[39;00m\n\u001B[0;32m--> 162\u001B[0m     \u001B[38;5;28;01mreturn\u001B[39;00m \u001B[38;5;28;43mlist\u001B[39;49m\u001B[43m(\u001B[49m\u001B[38;5;28;43mself\u001B[39;49m\u001B[38;5;241;43m.\u001B[39;49m\u001B[43mlazy_load\u001B[49m\u001B[43m(\u001B[49m\u001B[43m)\u001B[49m\u001B[43m)\u001B[49m\n",
      "File \u001B[0;32m/Library/Frameworks/Python.framework/Versions/3.11/lib/python3.11/site-packages/langchain/document_loaders/pdf.py:169\u001B[0m, in \u001B[0;36mPyPDFLoader.lazy_load\u001B[0;34m(self)\u001B[0m\n\u001B[1;32m    167\u001B[0m \u001B[38;5;250m\u001B[39m\u001B[38;5;124;03m\"\"\"Lazy load given path as pages.\"\"\"\u001B[39;00m\n\u001B[1;32m    168\u001B[0m blob \u001B[38;5;241m=\u001B[39m Blob\u001B[38;5;241m.\u001B[39mfrom_path(\u001B[38;5;28mself\u001B[39m\u001B[38;5;241m.\u001B[39mfile_path)\n\u001B[0;32m--> 169\u001B[0m \u001B[38;5;28;01myield from\u001B[39;00m \u001B[38;5;28;43mself\u001B[39;49m\u001B[38;5;241;43m.\u001B[39;49m\u001B[43mparser\u001B[49m\u001B[38;5;241;43m.\u001B[39;49m\u001B[43mparse\u001B[49m\u001B[43m(\u001B[49m\u001B[43mblob\u001B[49m\u001B[43m)\u001B[49m\n",
      "File \u001B[0;32m/Library/Frameworks/Python.framework/Versions/3.11/lib/python3.11/site-packages/langchain/document_loaders/base.py:95\u001B[0m, in \u001B[0;36mBaseBlobParser.parse\u001B[0;34m(self, blob)\u001B[0m\n\u001B[1;32m     80\u001B[0m \u001B[38;5;28;01mdef\u001B[39;00m \u001B[38;5;21mparse\u001B[39m(\u001B[38;5;28mself\u001B[39m, blob: Blob) \u001B[38;5;241m-\u001B[39m\u001B[38;5;241m>\u001B[39m List[Document]:\n\u001B[1;32m     81\u001B[0m \u001B[38;5;250m    \u001B[39m\u001B[38;5;124;03m\"\"\"Eagerly parse the blob into a document or documents.\u001B[39;00m\n\u001B[1;32m     82\u001B[0m \n\u001B[1;32m     83\u001B[0m \u001B[38;5;124;03m    This is a convenience method for interactive development environment.\u001B[39;00m\n\u001B[0;32m   (...)\u001B[0m\n\u001B[1;32m     93\u001B[0m \u001B[38;5;124;03m        List of documents\u001B[39;00m\n\u001B[1;32m     94\u001B[0m \u001B[38;5;124;03m    \"\"\"\u001B[39;00m\n\u001B[0;32m---> 95\u001B[0m     \u001B[38;5;28;01mreturn\u001B[39;00m \u001B[38;5;28;43mlist\u001B[39;49m\u001B[43m(\u001B[49m\u001B[38;5;28;43mself\u001B[39;49m\u001B[38;5;241;43m.\u001B[39;49m\u001B[43mlazy_parse\u001B[49m\u001B[43m(\u001B[49m\u001B[43mblob\u001B[49m\u001B[43m)\u001B[49m\u001B[43m)\u001B[49m\n",
      "File \u001B[0;32m/Library/Frameworks/Python.framework/Versions/3.11/lib/python3.11/site-packages/langchain/document_loaders/parsers/pdf.py:94\u001B[0m, in \u001B[0;36mPyPDFParser.lazy_parse\u001B[0;34m(self, blob)\u001B[0m\n\u001B[1;32m     91\u001B[0m \u001B[38;5;28;01mimport\u001B[39;00m \u001B[38;5;21;01mpypdf\u001B[39;00m\n\u001B[1;32m     93\u001B[0m \u001B[38;5;28;01mwith\u001B[39;00m blob\u001B[38;5;241m.\u001B[39mas_bytes_io() \u001B[38;5;28;01mas\u001B[39;00m pdf_file_obj:\n\u001B[0;32m---> 94\u001B[0m     pdf_reader \u001B[38;5;241m=\u001B[39m \u001B[43mpypdf\u001B[49m\u001B[38;5;241;43m.\u001B[39;49m\u001B[43mPdfReader\u001B[49m\u001B[43m(\u001B[49m\u001B[43mpdf_file_obj\u001B[49m\u001B[43m,\u001B[49m\u001B[43m \u001B[49m\u001B[43mpassword\u001B[49m\u001B[38;5;241;43m=\u001B[39;49m\u001B[38;5;28;43mself\u001B[39;49m\u001B[38;5;241;43m.\u001B[39;49m\u001B[43mpassword\u001B[49m\u001B[43m)\u001B[49m\n\u001B[1;32m     95\u001B[0m     \u001B[38;5;28;01myield from\u001B[39;00m [\n\u001B[1;32m     96\u001B[0m         Document(\n\u001B[1;32m     97\u001B[0m             page_content\u001B[38;5;241m=\u001B[39mpage\u001B[38;5;241m.\u001B[39mextract_text()\n\u001B[0;32m   (...)\u001B[0m\n\u001B[1;32m    101\u001B[0m         \u001B[38;5;28;01mfor\u001B[39;00m page_number, page \u001B[38;5;129;01min\u001B[39;00m \u001B[38;5;28menumerate\u001B[39m(pdf_reader\u001B[38;5;241m.\u001B[39mpages)\n\u001B[1;32m    102\u001B[0m     ]\n",
      "File \u001B[0;32m/Library/Frameworks/Python.framework/Versions/3.11/lib/python3.11/site-packages/pypdf/_reader.py:332\u001B[0m, in \u001B[0;36mPdfReader.__init__\u001B[0;34m(self, stream, strict, password)\u001B[0m\n\u001B[1;32m    330\u001B[0m     \u001B[38;5;28;01mwith\u001B[39;00m \u001B[38;5;28mopen\u001B[39m(stream, \u001B[38;5;124m\"\u001B[39m\u001B[38;5;124mrb\u001B[39m\u001B[38;5;124m\"\u001B[39m) \u001B[38;5;28;01mas\u001B[39;00m fh:\n\u001B[1;32m    331\u001B[0m         stream \u001B[38;5;241m=\u001B[39m BytesIO(fh\u001B[38;5;241m.\u001B[39mread())\n\u001B[0;32m--> 332\u001B[0m \u001B[38;5;28;43mself\u001B[39;49m\u001B[38;5;241;43m.\u001B[39;49m\u001B[43mread\u001B[49m\u001B[43m(\u001B[49m\u001B[43mstream\u001B[49m\u001B[43m)\u001B[49m\n\u001B[1;32m    333\u001B[0m \u001B[38;5;28mself\u001B[39m\u001B[38;5;241m.\u001B[39mstream \u001B[38;5;241m=\u001B[39m stream\n\u001B[1;32m    335\u001B[0m \u001B[38;5;28mself\u001B[39m\u001B[38;5;241m.\u001B[39m_override_encryption \u001B[38;5;241m=\u001B[39m \u001B[38;5;28;01mFalse\u001B[39;00m\n",
      "File \u001B[0;32m/Library/Frameworks/Python.framework/Versions/3.11/lib/python3.11/site-packages/pypdf/_reader.py:1554\u001B[0m, in \u001B[0;36mPdfReader.read\u001B[0;34m(self, stream)\u001B[0m\n\u001B[1;32m   1552\u001B[0m \u001B[38;5;28;01mdef\u001B[39;00m \u001B[38;5;21mread\u001B[39m(\u001B[38;5;28mself\u001B[39m, stream: StreamType) \u001B[38;5;241m-\u001B[39m\u001B[38;5;241m>\u001B[39m \u001B[38;5;28;01mNone\u001B[39;00m:\n\u001B[1;32m   1553\u001B[0m     \u001B[38;5;28mself\u001B[39m\u001B[38;5;241m.\u001B[39m_basic_validation(stream)\n\u001B[0;32m-> 1554\u001B[0m     \u001B[38;5;28;43mself\u001B[39;49m\u001B[38;5;241;43m.\u001B[39;49m\u001B[43m_find_eof_marker\u001B[49m\u001B[43m(\u001B[49m\u001B[43mstream\u001B[49m\u001B[43m)\u001B[49m\n\u001B[1;32m   1555\u001B[0m     startxref \u001B[38;5;241m=\u001B[39m \u001B[38;5;28mself\u001B[39m\u001B[38;5;241m.\u001B[39m_find_startxref_pos(stream)\n\u001B[1;32m   1557\u001B[0m     \u001B[38;5;66;03m# check and eventually correct the startxref only in not strict\u001B[39;00m\n",
      "File \u001B[0;32m/Library/Frameworks/Python.framework/Versions/3.11/lib/python3.11/site-packages/pypdf/_reader.py:1625\u001B[0m, in \u001B[0;36mPdfReader._find_eof_marker\u001B[0;34m(self, stream)\u001B[0m\n\u001B[1;32m   1623\u001B[0m     \u001B[38;5;28;01melse\u001B[39;00m:\n\u001B[1;32m   1624\u001B[0m         logger_warning(\u001B[38;5;124m\"\u001B[39m\u001B[38;5;124mEOF marker not found\u001B[39m\u001B[38;5;124m\"\u001B[39m, \u001B[38;5;18m__name__\u001B[39m)\n\u001B[0;32m-> 1625\u001B[0m line \u001B[38;5;241m=\u001B[39m \u001B[43mread_previous_line\u001B[49m\u001B[43m(\u001B[49m\u001B[43mstream\u001B[49m\u001B[43m)\u001B[49m\n",
      "File \u001B[0;32m/Library/Frameworks/Python.framework/Versions/3.11/lib/python3.11/site-packages/pypdf/_utils.py:268\u001B[0m, in \u001B[0;36mread_previous_line\u001B[0;34m(stream)\u001B[0m\n\u001B[1;32m    266\u001B[0m found_crlf \u001B[38;5;241m=\u001B[39m \u001B[38;5;28;01mFalse\u001B[39;00m\n\u001B[1;32m    267\u001B[0m \u001B[38;5;28;01mif\u001B[39;00m stream\u001B[38;5;241m.\u001B[39mtell() \u001B[38;5;241m==\u001B[39m \u001B[38;5;241m0\u001B[39m:\n\u001B[0;32m--> 268\u001B[0m     \u001B[38;5;28;01mraise\u001B[39;00m PdfStreamError(STREAM_TRUNCATED_PREMATURELY)\n\u001B[1;32m    269\u001B[0m \u001B[38;5;28;01mwhile\u001B[39;00m \u001B[38;5;28;01mTrue\u001B[39;00m:\n\u001B[1;32m    270\u001B[0m     to_read \u001B[38;5;241m=\u001B[39m \u001B[38;5;28mmin\u001B[39m(DEFAULT_BUFFER_SIZE, stream\u001B[38;5;241m.\u001B[39mtell())\n",
      "\u001B[0;31mPdfStreamError\u001B[0m: Stream has ended unexpectedly"
     ]
    }
   ],
   "source": [
    "for file in files:\n",
    "    loader = PyPDFLoader(file)\n",
    "    pages = loader.load_and_split()\n",
    "    pages = split_docs(pages)\n",
    "    documents.extend(pages)"
   ],
   "metadata": {
    "collapsed": false,
    "ExecuteTime": {
     "end_time": "2023-10-24T11:57:10.708813Z",
     "start_time": "2023-10-24T11:56:38.737685900Z"
    }
   },
   "id": "e2c2263c09397ed6"
  },
  {
   "cell_type": "code",
   "execution_count": 12,
   "outputs": [],
   "source": [
    "embeddings = SentenceTransformerEmbeddings(model_name=st_embedding_model)"
   ],
   "metadata": {
    "collapsed": false,
    "ExecuteTime": {
     "end_time": "2023-10-24T11:57:13.104986200Z",
     "start_time": "2023-10-24T11:57:10.709814200Z"
    }
   },
   "id": "650a18233013a147"
  },
  {
   "cell_type": "code",
   "execution_count": 12,
   "outputs": [
    {
     "data": {
      "text/plain": "<langchain.vectorstores.chroma.Chroma at 0x28996cbd0>"
     },
     "execution_count": 12,
     "metadata": {},
     "output_type": "execute_result"
    }
   ],
   "source": [
    "Chroma.from_documents(documents, embeddings, persist_directory=db_dir)"
   ],
   "metadata": {
    "collapsed": false,
    "ExecuteTime": {
     "end_time": "2023-10-24T11:58:00.386838300Z",
     "start_time": "2023-10-24T11:57:13.105987300Z"
    }
   },
   "id": "5921d93876c9c3d6"
  },
  {
   "cell_type": "code",
   "execution_count": 13,
   "outputs": [],
   "source": [
    "db = Chroma(persist_directory=db_dir, embedding_function=embeddings)"
   ],
   "metadata": {
    "collapsed": false,
    "ExecuteTime": {
     "end_time": "2023-10-24T11:58:00.402827700Z",
     "start_time": "2023-10-24T11:58:00.389828600Z"
    }
   },
   "id": "e343a37965e5a43d"
  },
  {
   "cell_type": "code",
   "execution_count": 14,
   "outputs": [],
   "source": [
    "query = \"what happen leadsulphide treated with oxygen\""
   ],
   "metadata": {
    "collapsed": false,
    "ExecuteTime": {
     "end_time": "2023-10-24T12:14:10.754121600Z",
     "start_time": "2023-10-24T12:14:10.748128600Z"
    }
   },
   "id": "fc3a21bca6ef2c77"
  },
  {
   "cell_type": "code",
   "execution_count": 15,
   "outputs": [],
   "source": [
    "llm = ChatOpenAI(model_name=open_ai_llm_model_name)"
   ],
   "metadata": {
    "collapsed": false,
    "ExecuteTime": {
     "end_time": "2023-10-24T11:59:28.150688100Z",
     "start_time": "2023-10-24T11:59:28.121956800Z"
    }
   },
   "id": "7248a83dcf1d532d"
  },
  {
   "cell_type": "code",
   "execution_count": 16,
   "outputs": [
    {
     "name": "stdout",
     "output_type": "stream",
     "text": [
      "\n",
      "\n",
      "\u001B[1m> Entering new StuffDocumentsChain chain...\u001B[0m\n",
      "\n",
      "\n",
      "\u001B[1m> Entering new LLMChain chain...\u001B[0m\n",
      "Prompt after formatting:\n",
      "\u001B[32;1m\u001B[1;3mSystem: Use the following pieces of context to answer the user's question. \n",
      "If you don't know the answer, just say that you don't know, don't try to make up an answer.\n",
      "----------------\n",
      "→\n",
      "o ourless\n",
      "However, the bleached product (colourless) is allowed to stand in air, it is reoxidised \n",
      "by atmospheric oxygen to its original colour. Hence bleaching action of sulphur dioxide is temporary. \n",
      "Uses: \n",
      "1. Sulphur dioxide is used in bleaching hair, silk, wool etc...\n",
      "2. It can be used for disinfecting crops and plants in agriculture.\n",
      "Structure of sulphur dioxide:\n",
      "In sulphur dioxide, sulphur \n",
      "atom undergoes sp2 hybridisation. \n",
      "A double bond arises between S \n",
      "and O due to pπ- dπ overlapping.\n",
      "3.2.3 Sulphuric acid: (H2SO4) \n",
      "Preparation:\n",
      "Sulphuric acid can be manufactured by lead chamber process, cascade process or contact \n",
      "process. Here we discuss the contact process.\n",
      "Manufacture of sulphuric acid by contact process:\n",
      "The contact process involves the following steps. \n",
      "i.  Initially sulphur dioxide is produced by burning sulphur or iron pyrites in oxygen/air.Figure 3.9  Str ucture of sulphur dioxide.\n",
      "\n",
      "→\n",
      "o ourless\n",
      "However, the bleached product (colourless) is allowed to stand in air, it is reoxidised \n",
      "by atmospheric oxygen to its original colour. Hence bleaching action of sulphur dioxide is temporary. \n",
      "Uses: \n",
      "1. Sulphur dioxide is used in bleaching hair, silk, wool etc...\n",
      "2. It can be used for disinfecting crops and plants in agriculture.\n",
      "Structure of sulphur dioxide:\n",
      "In sulphur dioxide, sulphur \n",
      "atom undergoes sp2 hybridisation. \n",
      "A double bond arises between S \n",
      "and O due to pπ- dπ overlapping.\n",
      "3.2.3 Sulphuric acid: (H2SO4) \n",
      "Preparation:\n",
      "Sulphuric acid can be manufactured by lead chamber process, cascade process or contact \n",
      "process. Here we discuss the contact process.\n",
      "Manufacture of sulphuric acid by contact process:\n",
      "The contact process involves the following steps. \n",
      "i.  Initially sulphur dioxide is produced by burning sulphur or iron pyrites in oxygen/air.Figure 3.9  Str ucture of sulphur dioxide.\n",
      "\n",
      "→\n",
      "o ourless\n",
      "However, the bleached product (colourless) is allowed to stand in air, it is reoxidised \n",
      "by atmospheric oxygen to its original colour. Hence bleaching action of sulphur dioxide is temporary. \n",
      "Uses: \n",
      "1. Sulphur dioxide is used in bleaching hair, silk, wool etc...\n",
      "2. It can be used for disinfecting crops and plants in agriculture.\n",
      "Structure of sulphur dioxide:\n",
      "In sulphur dioxide, sulphur \n",
      "atom undergoes sp2 hybridisation. \n",
      "A double bond arises between S \n",
      "and O due to pπ- dπ overlapping.\n",
      "3.2.3 Sulphuric acid: (H2SO4) \n",
      "Preparation:\n",
      "Sulphuric acid can be manufactured by lead chamber process, cascade process or contact \n",
      "process. Here we discuss the contact process.\n",
      "Manufacture of sulphuric acid by contact process:\n",
      "The contact process involves the following steps. \n",
      "i.  Initially sulphur dioxide is produced by burning sulphur or iron pyrites in oxygen/air.Figure 3.9  Str ucture of sulphur dioxide.\n",
      "\n",
      "95 Phosphine is used for producing smoke screen as it gives large smoke. \n",
      " When a slow stream of chlorine is passed over white phosphorous, phosphorous \n",
      "trichloride  is formed.\n",
      " Phosphorus trichloride: and Phosphorous pentachloride are used as a chlorinating \n",
      "agent\n",
      " Oxygen is paramagnetic. It exists in two allotropic forms namely dioxygen (O2) \n",
      "and ozone or trioxygen (O3).\n",
      " Ozone is commonly used for oxidation of organic compounds.\n",
      " Sulphur exists in crystalline as well as amorphous allotrophic forms. The crystalline form includes rhombic sulphur (α sulphur) and monoclinic sulphur (β sulphur). Amorphous allotropic form includes plastic sulphur (γ sulphur), milk of sulphur and colloidal sulphur.\n",
      " Sulphuric acid can be manufactured by lead chamber process, cascade process or contact process.\n",
      " When dissolved in water, it forms mono (H2SO4.H2O) and dihydrates (H2SO4.2H2O) \n",
      "and the reaction is exothermic.\n",
      " Halogens are present in combined form as they are highly reactive.\n",
      "Human: what happen leadsulphide treated with oxygen\u001B[0m\n",
      "\n",
      "\u001B[1m> Finished chain.\u001B[0m\n",
      "\n",
      "\u001B[1m> Finished chain.\u001B[0m\n"
     ]
    }
   ],
   "source": [
    "chain = load_qa_chain(llm, chain_type=\"stuff\", verbose=True)\n",
    "\n",
    "matching_docs = db.similarity_search(query)\n",
    "answer =  chain.run(input_documents=matching_docs, question=query)"
   ],
   "metadata": {
    "collapsed": false,
    "ExecuteTime": {
     "end_time": "2023-10-24T12:14:45.151481300Z",
     "start_time": "2023-10-24T12:14:14.394129600Z"
    }
   },
   "id": "c6e9aeb1bbb3f17c"
  },
  {
   "cell_type": "code",
   "execution_count": 17,
   "outputs": [
    {
     "data": {
      "text/plain": "'When lead sulfide (PbS) is treated with oxygen (O2), it undergoes oxidation and forms lead oxide (PbO) and sulfur dioxide (SO2) as products. The balanced chemical equation for this reaction is:\\n\\n2PbS + 3O2 -> 2PbO + 2SO2\\n\\nSo, lead sulfide reacts with oxygen to produce lead oxide and sulfur dioxide.'"
     },
     "execution_count": 17,
     "metadata": {},
     "output_type": "execute_result"
    }
   ],
   "source": [
    "answer"
   ],
   "metadata": {
    "collapsed": false,
    "ExecuteTime": {
     "end_time": "2023-10-24T12:14:45.197425300Z",
     "start_time": "2023-10-24T12:14:45.153482800Z"
    }
   },
   "id": "daa966ee1d206948"
  },
  {
   "cell_type": "code",
   "execution_count": 18,
   "outputs": [
    {
     "name": "stdout",
     "output_type": "stream",
     "text": [
      "{'page': 86, 'source': 'pdfs/12th_Chemistry_Vol-1_EM - www.tntextbooks.in.pdf'}\n",
      "{'page': 86, 'source': 'pdfs\\\\12th_Chemistry_Vol-1_EM - www.tntextbooks.in.pdf'}\n",
      "{'page': 86, 'source': 'pdfs\\\\12th_Chemistry_Vol-1_EM - www.tntextbooks.in.pdf'}\n",
      "{'page': 104, 'source': 'pdfs/12th_Chemistry_Vol-1_EM - www.tntextbooks.in.pdf'}\n"
     ]
    }
   ],
   "source": [
    "for doc in matching_docs:\n",
    "    print(doc.metadata)"
   ],
   "metadata": {
    "collapsed": false
   },
   "id": "c9a9f0e755352e16"
  },
  {
   "cell_type": "code",
   "execution_count": null,
   "outputs": [],
   "source": [],
   "metadata": {
    "collapsed": false
   },
   "id": "bef83af34e9a724f"
  }
 ],
 "metadata": {
  "kernelspec": {
   "display_name": "Python 3",
   "language": "python",
   "name": "python3"
  },
  "language_info": {
   "codemirror_mode": {
    "name": "ipython",
    "version": 2
   },
   "file_extension": ".py",
   "mimetype": "text/x-python",
   "name": "python",
   "nbconvert_exporter": "python",
   "pygments_lexer": "ipython2",
   "version": "2.7.6"
  }
 },
 "nbformat": 4,
 "nbformat_minor": 5
}
